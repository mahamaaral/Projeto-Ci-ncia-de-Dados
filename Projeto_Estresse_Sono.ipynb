{
  "nbformat": 4,
  "nbformat_minor": 0,
  "metadata": {
    "colab": {
      "name": "Projeto_Estresse_Sono",
      "provenance": [],
      "collapsed_sections": []
    },
    "kernelspec": {
      "name": "python3",
      "display_name": "Python 3"
    },
    "language_info": {
      "name": "python"
    }
  },
  "cells": [
    {
      "cell_type": "markdown",
      "source": [
        "#**PROJETO - DETECÇÃO DE ESTRESSE HUMANO DURANTE E ATRAVÉS DO SONO**"
      ],
      "metadata": {
        "id": "Lq28J2E0pRwI"
      }
    },
    {
      "cell_type": "markdown",
      "source": [
        "## **Descrição dos dados**\n",
        "Fonte: https://www.kaggle.com/laavanya/human-stress-detection-in-and-through-sleep?select=IEEE-TCE_2020-08-0175_SaYoPillow.pdf\n",
        "\n",
        "No SayoPillow.csv, é possível verificar a relação entre os parâmetros - faixa de ronco do usuário, frequência respiratória, temperatura corporal, taxa de movimento dos membros, níveis de oxigênio no sangue, movimento dos olhos, número de horas de sono, frequência cardíaca e níveis de estresse (0 - baixo/normal, 1 - médio baixo, 2- médio, 3-médio alto, 4 - alto) que foi gerado a partir da Revisão de Literatura.\n",
        "\n",
        "Referências:\n",
        "\n",
        "[1] L. Rachakonda, A. K. Bapatla, S. P. Mohanty, and E. Kougianos, “SaYoPillow: Blockchain-Integrated Privacy-Assured IoMT Framework for Stress Management Considering Sleeping Habits”, IEEE Transactions on Consumer Electronics (TCE), Vol. 67, No. 1, Feb 2021, pp. 20-29.\n",
        "\n",
        "[2] L. Rachakonda, S. P. Mohanty, E. Kougianos, K. Karunakaran, and M. Ganapathiraju, “Smart-Pillow: An IoT based Device for Stress Detection Considering Sleeping Habits”, in Proceedings of the 4th IEEE International Symposium on Smart Electronic Systems (iSES), 2018, pp. 161--166."
      ],
      "metadata": {
        "id": "1jzH1C8essRb"
      }
    },
    {
      "cell_type": "markdown",
      "source": [
        "## **Motivação da análise e previsões**\n",
        "\n",
        "O estresse é definido como um estado de tensão mental ou emocional devido a circunstâncias inevitáveis ou exigentes, bem como uma tensão específica no corpo humano causada por vários estressores. Os estressores fazem com que o corpo libere hormônios do estresse e podem ser categorizados como fisiológicos, psicológicos, absolutos e relativos.\n",
        "\n",
        "Os seres humanos desenvolvem falta de adaptação quando expostos ao estresse devido a diferentes estressores por longos períodos de tempo, o que pode causar grandes impactos em relacionamentos, trabalho, saúde e causar impactos emocionais. Os distúrbios de sono têm sido associados ao aumento de casos de doenças, síndrome de burnout, insônia psicofisiológica persistente, sistema imunológico enfraquecido, maior risco de acidentes de trabalho, entre outras complicações.\n",
        "\n",
        "Com base nessas alterações durante o sono, propõe-se a previsão de estresse para o dia seguinte, de acordo com os seguintes parâmetros: faixa de ronco do usuário, frequência respiratória, temperatura corporal, taxa de movimento dos membros, níveis de oxigênio no sangue, movimento dos olhos, número de horas de sono e frequência cardíaca."
      ],
      "metadata": {
        "id": "Eq9l13Iyt9b8"
      }
    },
    {
      "cell_type": "markdown",
      "source": [
        "### **Bibliotecas**"
      ],
      "metadata": {
        "id": "Nv2R1CHqpcNA"
      }
    },
    {
      "cell_type": "code",
      "source": [
        "import pandas as pd\n",
        "import matplotlib.pyplot as plt\n",
        "import numpy as np\n",
        "import seaborn as sns\n",
        "\n",
        "from sklearn.linear_model import LinearRegression\n",
        "from sklearn.metrics import mean_squared_error\n",
        "from sklearn.model_selection import train_test_split\n",
        "from sklearn.model_selection import cross_val_score"
      ],
      "metadata": {
        "id": "4NKRteGQpYCt"
      },
      "execution_count": 1,
      "outputs": []
    },
    {
      "cell_type": "markdown",
      "source": [
        "**Banco de Dados**"
      ],
      "metadata": {
        "id": "6emUDvskpjXw"
      }
    },
    {
      "cell_type": "code",
      "source": [
        "# Link: https://www.kaggle.com/laavanya/human-stress-detection-in-and-through-sleep\n",
        "\n",
        "df_stress = pd.read_csv('SaYoPillow.csv', sep=',')"
      ],
      "metadata": {
        "id": "cc_dIy6ZprBs"
      },
      "execution_count": 2,
      "outputs": []
    },
    {
      "cell_type": "code",
      "source": [
        "df_stress.head()"
      ],
      "metadata": {
        "colab": {
          "base_uri": "https://localhost:8080/",
          "height": 206
        },
        "id": "2X2SO8vXtj0y",
        "outputId": "18e1c549-d61d-437c-f9a8-ff3bc8d437c7"
      },
      "execution_count": 3,
      "outputs": [
        {
          "output_type": "execute_result",
          "data": {
            "text/plain": [
              "      sr      rr       t      lm      bo    rem   sr.1     hr  sl\n",
              "0  93.80  25.680  91.840  16.600  89.840  99.60  1.840  74.20   3\n",
              "1  91.64  25.104  91.552  15.880  89.552  98.88  1.552  72.76   3\n",
              "2  60.00  20.000  96.000  10.000  95.000  85.00  7.000  60.00   1\n",
              "3  85.76  23.536  90.768  13.920  88.768  96.92  0.768  68.84   3\n",
              "4  48.12  17.248  97.872   6.496  96.248  72.48  8.248  53.12   0"
            ],
            "text/html": [
              "\n",
              "  <div id=\"df-34eb29c7-3b18-4821-94b3-931dad61fd5c\">\n",
              "    <div class=\"colab-df-container\">\n",
              "      <div>\n",
              "<style scoped>\n",
              "    .dataframe tbody tr th:only-of-type {\n",
              "        vertical-align: middle;\n",
              "    }\n",
              "\n",
              "    .dataframe tbody tr th {\n",
              "        vertical-align: top;\n",
              "    }\n",
              "\n",
              "    .dataframe thead th {\n",
              "        text-align: right;\n",
              "    }\n",
              "</style>\n",
              "<table border=\"1\" class=\"dataframe\">\n",
              "  <thead>\n",
              "    <tr style=\"text-align: right;\">\n",
              "      <th></th>\n",
              "      <th>sr</th>\n",
              "      <th>rr</th>\n",
              "      <th>t</th>\n",
              "      <th>lm</th>\n",
              "      <th>bo</th>\n",
              "      <th>rem</th>\n",
              "      <th>sr.1</th>\n",
              "      <th>hr</th>\n",
              "      <th>sl</th>\n",
              "    </tr>\n",
              "  </thead>\n",
              "  <tbody>\n",
              "    <tr>\n",
              "      <th>0</th>\n",
              "      <td>93.80</td>\n",
              "      <td>25.680</td>\n",
              "      <td>91.840</td>\n",
              "      <td>16.600</td>\n",
              "      <td>89.840</td>\n",
              "      <td>99.60</td>\n",
              "      <td>1.840</td>\n",
              "      <td>74.20</td>\n",
              "      <td>3</td>\n",
              "    </tr>\n",
              "    <tr>\n",
              "      <th>1</th>\n",
              "      <td>91.64</td>\n",
              "      <td>25.104</td>\n",
              "      <td>91.552</td>\n",
              "      <td>15.880</td>\n",
              "      <td>89.552</td>\n",
              "      <td>98.88</td>\n",
              "      <td>1.552</td>\n",
              "      <td>72.76</td>\n",
              "      <td>3</td>\n",
              "    </tr>\n",
              "    <tr>\n",
              "      <th>2</th>\n",
              "      <td>60.00</td>\n",
              "      <td>20.000</td>\n",
              "      <td>96.000</td>\n",
              "      <td>10.000</td>\n",
              "      <td>95.000</td>\n",
              "      <td>85.00</td>\n",
              "      <td>7.000</td>\n",
              "      <td>60.00</td>\n",
              "      <td>1</td>\n",
              "    </tr>\n",
              "    <tr>\n",
              "      <th>3</th>\n",
              "      <td>85.76</td>\n",
              "      <td>23.536</td>\n",
              "      <td>90.768</td>\n",
              "      <td>13.920</td>\n",
              "      <td>88.768</td>\n",
              "      <td>96.92</td>\n",
              "      <td>0.768</td>\n",
              "      <td>68.84</td>\n",
              "      <td>3</td>\n",
              "    </tr>\n",
              "    <tr>\n",
              "      <th>4</th>\n",
              "      <td>48.12</td>\n",
              "      <td>17.248</td>\n",
              "      <td>97.872</td>\n",
              "      <td>6.496</td>\n",
              "      <td>96.248</td>\n",
              "      <td>72.48</td>\n",
              "      <td>8.248</td>\n",
              "      <td>53.12</td>\n",
              "      <td>0</td>\n",
              "    </tr>\n",
              "  </tbody>\n",
              "</table>\n",
              "</div>\n",
              "      <button class=\"colab-df-convert\" onclick=\"convertToInteractive('df-34eb29c7-3b18-4821-94b3-931dad61fd5c')\"\n",
              "              title=\"Convert this dataframe to an interactive table.\"\n",
              "              style=\"display:none;\">\n",
              "        \n",
              "  <svg xmlns=\"http://www.w3.org/2000/svg\" height=\"24px\"viewBox=\"0 0 24 24\"\n",
              "       width=\"24px\">\n",
              "    <path d=\"M0 0h24v24H0V0z\" fill=\"none\"/>\n",
              "    <path d=\"M18.56 5.44l.94 2.06.94-2.06 2.06-.94-2.06-.94-.94-2.06-.94 2.06-2.06.94zm-11 1L8.5 8.5l.94-2.06 2.06-.94-2.06-.94L8.5 2.5l-.94 2.06-2.06.94zm10 10l.94 2.06.94-2.06 2.06-.94-2.06-.94-.94-2.06-.94 2.06-2.06.94z\"/><path d=\"M17.41 7.96l-1.37-1.37c-.4-.4-.92-.59-1.43-.59-.52 0-1.04.2-1.43.59L10.3 9.45l-7.72 7.72c-.78.78-.78 2.05 0 2.83L4 21.41c.39.39.9.59 1.41.59.51 0 1.02-.2 1.41-.59l7.78-7.78 2.81-2.81c.8-.78.8-2.07 0-2.86zM5.41 20L4 18.59l7.72-7.72 1.47 1.35L5.41 20z\"/>\n",
              "  </svg>\n",
              "      </button>\n",
              "      \n",
              "  <style>\n",
              "    .colab-df-container {\n",
              "      display:flex;\n",
              "      flex-wrap:wrap;\n",
              "      gap: 12px;\n",
              "    }\n",
              "\n",
              "    .colab-df-convert {\n",
              "      background-color: #E8F0FE;\n",
              "      border: none;\n",
              "      border-radius: 50%;\n",
              "      cursor: pointer;\n",
              "      display: none;\n",
              "      fill: #1967D2;\n",
              "      height: 32px;\n",
              "      padding: 0 0 0 0;\n",
              "      width: 32px;\n",
              "    }\n",
              "\n",
              "    .colab-df-convert:hover {\n",
              "      background-color: #E2EBFA;\n",
              "      box-shadow: 0px 1px 2px rgba(60, 64, 67, 0.3), 0px 1px 3px 1px rgba(60, 64, 67, 0.15);\n",
              "      fill: #174EA6;\n",
              "    }\n",
              "\n",
              "    [theme=dark] .colab-df-convert {\n",
              "      background-color: #3B4455;\n",
              "      fill: #D2E3FC;\n",
              "    }\n",
              "\n",
              "    [theme=dark] .colab-df-convert:hover {\n",
              "      background-color: #434B5C;\n",
              "      box-shadow: 0px 1px 3px 1px rgba(0, 0, 0, 0.15);\n",
              "      filter: drop-shadow(0px 1px 2px rgba(0, 0, 0, 0.3));\n",
              "      fill: #FFFFFF;\n",
              "    }\n",
              "  </style>\n",
              "\n",
              "      <script>\n",
              "        const buttonEl =\n",
              "          document.querySelector('#df-34eb29c7-3b18-4821-94b3-931dad61fd5c button.colab-df-convert');\n",
              "        buttonEl.style.display =\n",
              "          google.colab.kernel.accessAllowed ? 'block' : 'none';\n",
              "\n",
              "        async function convertToInteractive(key) {\n",
              "          const element = document.querySelector('#df-34eb29c7-3b18-4821-94b3-931dad61fd5c');\n",
              "          const dataTable =\n",
              "            await google.colab.kernel.invokeFunction('convertToInteractive',\n",
              "                                                     [key], {});\n",
              "          if (!dataTable) return;\n",
              "\n",
              "          const docLinkHtml = 'Like what you see? Visit the ' +\n",
              "            '<a target=\"_blank\" href=https://colab.research.google.com/notebooks/data_table.ipynb>data table notebook</a>'\n",
              "            + ' to learn more about interactive tables.';\n",
              "          element.innerHTML = '';\n",
              "          dataTable['output_type'] = 'display_data';\n",
              "          await google.colab.output.renderOutput(dataTable, element);\n",
              "          const docLink = document.createElement('div');\n",
              "          docLink.innerHTML = docLinkHtml;\n",
              "          element.appendChild(docLink);\n",
              "        }\n",
              "      </script>\n",
              "    </div>\n",
              "  </div>\n",
              "  "
            ]
          },
          "metadata": {},
          "execution_count": 3
        }
      ]
    },
    {
      "cell_type": "code",
      "source": [
        "df_stress_ren = df_stress.rename(columns={'sr': 'Taxa de Ronco', 'rr': 'Taxa de Respiração', 't': 'Temperatura do Corpo', 'lm': 'Movimento de Membros', 'bo': 'O2 no Sangue',\n",
        "                                       'rem': 'Movimento dos Olhos', 'sr.1': 'Horas de Sono', 'hr': 'Frequência Cardíaca', 'sl': 'Nível de Estresse'})"
      ],
      "metadata": {
        "id": "x4pJa4e8ukAU"
      },
      "execution_count": 4,
      "outputs": []
    },
    {
      "cell_type": "code",
      "source": [
        "df_stress_ren.head()"
      ],
      "metadata": {
        "colab": {
          "base_uri": "https://localhost:8080/",
          "height": 206
        },
        "id": "gMDpfkSlul7C",
        "outputId": "9ce43e7e-7aef-499e-955e-0b61986a1064"
      },
      "execution_count": 5,
      "outputs": [
        {
          "output_type": "execute_result",
          "data": {
            "text/plain": [
              "   Taxa de Ronco  Taxa de Respiração  Temperatura do Corpo  \\\n",
              "0          93.80              25.680                91.840   \n",
              "1          91.64              25.104                91.552   \n",
              "2          60.00              20.000                96.000   \n",
              "3          85.76              23.536                90.768   \n",
              "4          48.12              17.248                97.872   \n",
              "\n",
              "   Movimento de Membros  O2 no Sangue  Movimento dos Olhos  Horas de Sono  \\\n",
              "0                16.600        89.840                99.60          1.840   \n",
              "1                15.880        89.552                98.88          1.552   \n",
              "2                10.000        95.000                85.00          7.000   \n",
              "3                13.920        88.768                96.92          0.768   \n",
              "4                 6.496        96.248                72.48          8.248   \n",
              "\n",
              "   Frequência Cardíaca  Nível de Estresse  \n",
              "0                74.20                  3  \n",
              "1                72.76                  3  \n",
              "2                60.00                  1  \n",
              "3                68.84                  3  \n",
              "4                53.12                  0  "
            ],
            "text/html": [
              "\n",
              "  <div id=\"df-2b335e28-2b4c-46d8-bce5-9d8e9ed3b906\">\n",
              "    <div class=\"colab-df-container\">\n",
              "      <div>\n",
              "<style scoped>\n",
              "    .dataframe tbody tr th:only-of-type {\n",
              "        vertical-align: middle;\n",
              "    }\n",
              "\n",
              "    .dataframe tbody tr th {\n",
              "        vertical-align: top;\n",
              "    }\n",
              "\n",
              "    .dataframe thead th {\n",
              "        text-align: right;\n",
              "    }\n",
              "</style>\n",
              "<table border=\"1\" class=\"dataframe\">\n",
              "  <thead>\n",
              "    <tr style=\"text-align: right;\">\n",
              "      <th></th>\n",
              "      <th>Taxa de Ronco</th>\n",
              "      <th>Taxa de Respiração</th>\n",
              "      <th>Temperatura do Corpo</th>\n",
              "      <th>Movimento de Membros</th>\n",
              "      <th>O2 no Sangue</th>\n",
              "      <th>Movimento dos Olhos</th>\n",
              "      <th>Horas de Sono</th>\n",
              "      <th>Frequência Cardíaca</th>\n",
              "      <th>Nível de Estresse</th>\n",
              "    </tr>\n",
              "  </thead>\n",
              "  <tbody>\n",
              "    <tr>\n",
              "      <th>0</th>\n",
              "      <td>93.80</td>\n",
              "      <td>25.680</td>\n",
              "      <td>91.840</td>\n",
              "      <td>16.600</td>\n",
              "      <td>89.840</td>\n",
              "      <td>99.60</td>\n",
              "      <td>1.840</td>\n",
              "      <td>74.20</td>\n",
              "      <td>3</td>\n",
              "    </tr>\n",
              "    <tr>\n",
              "      <th>1</th>\n",
              "      <td>91.64</td>\n",
              "      <td>25.104</td>\n",
              "      <td>91.552</td>\n",
              "      <td>15.880</td>\n",
              "      <td>89.552</td>\n",
              "      <td>98.88</td>\n",
              "      <td>1.552</td>\n",
              "      <td>72.76</td>\n",
              "      <td>3</td>\n",
              "    </tr>\n",
              "    <tr>\n",
              "      <th>2</th>\n",
              "      <td>60.00</td>\n",
              "      <td>20.000</td>\n",
              "      <td>96.000</td>\n",
              "      <td>10.000</td>\n",
              "      <td>95.000</td>\n",
              "      <td>85.00</td>\n",
              "      <td>7.000</td>\n",
              "      <td>60.00</td>\n",
              "      <td>1</td>\n",
              "    </tr>\n",
              "    <tr>\n",
              "      <th>3</th>\n",
              "      <td>85.76</td>\n",
              "      <td>23.536</td>\n",
              "      <td>90.768</td>\n",
              "      <td>13.920</td>\n",
              "      <td>88.768</td>\n",
              "      <td>96.92</td>\n",
              "      <td>0.768</td>\n",
              "      <td>68.84</td>\n",
              "      <td>3</td>\n",
              "    </tr>\n",
              "    <tr>\n",
              "      <th>4</th>\n",
              "      <td>48.12</td>\n",
              "      <td>17.248</td>\n",
              "      <td>97.872</td>\n",
              "      <td>6.496</td>\n",
              "      <td>96.248</td>\n",
              "      <td>72.48</td>\n",
              "      <td>8.248</td>\n",
              "      <td>53.12</td>\n",
              "      <td>0</td>\n",
              "    </tr>\n",
              "  </tbody>\n",
              "</table>\n",
              "</div>\n",
              "      <button class=\"colab-df-convert\" onclick=\"convertToInteractive('df-2b335e28-2b4c-46d8-bce5-9d8e9ed3b906')\"\n",
              "              title=\"Convert this dataframe to an interactive table.\"\n",
              "              style=\"display:none;\">\n",
              "        \n",
              "  <svg xmlns=\"http://www.w3.org/2000/svg\" height=\"24px\"viewBox=\"0 0 24 24\"\n",
              "       width=\"24px\">\n",
              "    <path d=\"M0 0h24v24H0V0z\" fill=\"none\"/>\n",
              "    <path d=\"M18.56 5.44l.94 2.06.94-2.06 2.06-.94-2.06-.94-.94-2.06-.94 2.06-2.06.94zm-11 1L8.5 8.5l.94-2.06 2.06-.94-2.06-.94L8.5 2.5l-.94 2.06-2.06.94zm10 10l.94 2.06.94-2.06 2.06-.94-2.06-.94-.94-2.06-.94 2.06-2.06.94z\"/><path d=\"M17.41 7.96l-1.37-1.37c-.4-.4-.92-.59-1.43-.59-.52 0-1.04.2-1.43.59L10.3 9.45l-7.72 7.72c-.78.78-.78 2.05 0 2.83L4 21.41c.39.39.9.59 1.41.59.51 0 1.02-.2 1.41-.59l7.78-7.78 2.81-2.81c.8-.78.8-2.07 0-2.86zM5.41 20L4 18.59l7.72-7.72 1.47 1.35L5.41 20z\"/>\n",
              "  </svg>\n",
              "      </button>\n",
              "      \n",
              "  <style>\n",
              "    .colab-df-container {\n",
              "      display:flex;\n",
              "      flex-wrap:wrap;\n",
              "      gap: 12px;\n",
              "    }\n",
              "\n",
              "    .colab-df-convert {\n",
              "      background-color: #E8F0FE;\n",
              "      border: none;\n",
              "      border-radius: 50%;\n",
              "      cursor: pointer;\n",
              "      display: none;\n",
              "      fill: #1967D2;\n",
              "      height: 32px;\n",
              "      padding: 0 0 0 0;\n",
              "      width: 32px;\n",
              "    }\n",
              "\n",
              "    .colab-df-convert:hover {\n",
              "      background-color: #E2EBFA;\n",
              "      box-shadow: 0px 1px 2px rgba(60, 64, 67, 0.3), 0px 1px 3px 1px rgba(60, 64, 67, 0.15);\n",
              "      fill: #174EA6;\n",
              "    }\n",
              "\n",
              "    [theme=dark] .colab-df-convert {\n",
              "      background-color: #3B4455;\n",
              "      fill: #D2E3FC;\n",
              "    }\n",
              "\n",
              "    [theme=dark] .colab-df-convert:hover {\n",
              "      background-color: #434B5C;\n",
              "      box-shadow: 0px 1px 3px 1px rgba(0, 0, 0, 0.15);\n",
              "      filter: drop-shadow(0px 1px 2px rgba(0, 0, 0, 0.3));\n",
              "      fill: #FFFFFF;\n",
              "    }\n",
              "  </style>\n",
              "\n",
              "      <script>\n",
              "        const buttonEl =\n",
              "          document.querySelector('#df-2b335e28-2b4c-46d8-bce5-9d8e9ed3b906 button.colab-df-convert');\n",
              "        buttonEl.style.display =\n",
              "          google.colab.kernel.accessAllowed ? 'block' : 'none';\n",
              "\n",
              "        async function convertToInteractive(key) {\n",
              "          const element = document.querySelector('#df-2b335e28-2b4c-46d8-bce5-9d8e9ed3b906');\n",
              "          const dataTable =\n",
              "            await google.colab.kernel.invokeFunction('convertToInteractive',\n",
              "                                                     [key], {});\n",
              "          if (!dataTable) return;\n",
              "\n",
              "          const docLinkHtml = 'Like what you see? Visit the ' +\n",
              "            '<a target=\"_blank\" href=https://colab.research.google.com/notebooks/data_table.ipynb>data table notebook</a>'\n",
              "            + ' to learn more about interactive tables.';\n",
              "          element.innerHTML = '';\n",
              "          dataTable['output_type'] = 'display_data';\n",
              "          await google.colab.output.renderOutput(dataTable, element);\n",
              "          const docLink = document.createElement('div');\n",
              "          docLink.innerHTML = docLinkHtml;\n",
              "          element.appendChild(docLink);\n",
              "        }\n",
              "      </script>\n",
              "    </div>\n",
              "  </div>\n",
              "  "
            ]
          },
          "metadata": {},
          "execution_count": 5
        }
      ]
    },
    {
      "cell_type": "markdown",
      "source": [
        "**Análises Iniciais**"
      ],
      "metadata": {
        "id": "nKIFRrXptZkb"
      }
    },
    {
      "cell_type": "code",
      "source": [
        "df_stress.shape"
      ],
      "metadata": {
        "colab": {
          "base_uri": "https://localhost:8080/"
        },
        "id": "1JVqMqNLt66r",
        "outputId": "648cef8c-a6fe-45d0-cecd-eecefec9821a"
      },
      "execution_count": 6,
      "outputs": [
        {
          "output_type": "execute_result",
          "data": {
            "text/plain": [
              "(630, 9)"
            ]
          },
          "metadata": {},
          "execution_count": 6
        }
      ]
    },
    {
      "cell_type": "code",
      "source": [
        "df_stress_ren.info()"
      ],
      "metadata": {
        "colab": {
          "base_uri": "https://localhost:8080/"
        },
        "id": "-2Y5JZbO8SbX",
        "outputId": "10d9e49e-5447-4bb3-ebc3-3ead68036b88"
      },
      "execution_count": 7,
      "outputs": [
        {
          "output_type": "stream",
          "name": "stdout",
          "text": [
            "<class 'pandas.core.frame.DataFrame'>\n",
            "RangeIndex: 630 entries, 0 to 629\n",
            "Data columns (total 9 columns):\n",
            " #   Column                Non-Null Count  Dtype  \n",
            "---  ------                --------------  -----  \n",
            " 0   Taxa de Ronco         630 non-null    float64\n",
            " 1   Taxa de Respiração    630 non-null    float64\n",
            " 2   Temperatura do Corpo  630 non-null    float64\n",
            " 3   Movimento de Membros  630 non-null    float64\n",
            " 4   O2 no Sangue          630 non-null    float64\n",
            " 5   Movimento dos Olhos   630 non-null    float64\n",
            " 6   Horas de Sono         630 non-null    float64\n",
            " 7   Frequência Cardíaca   630 non-null    float64\n",
            " 8   Nível de Estresse     630 non-null    int64  \n",
            "dtypes: float64(8), int64(1)\n",
            "memory usage: 44.4 KB\n"
          ]
        }
      ]
    },
    {
      "cell_type": "markdown",
      "source": [
        "**Variáveis Quantitativas - Estatística Descritiva**"
      ],
      "metadata": {
        "id": "tfc36GoBu6ib"
      }
    },
    {
      "cell_type": "code",
      "source": [
        "df_stress_ren.describe()"
      ],
      "metadata": {
        "colab": {
          "base_uri": "https://localhost:8080/",
          "height": 300
        },
        "id": "VBYyQBxivQTM",
        "outputId": "2cabb741-4c9b-44e8-a06d-8209b21f4829"
      },
      "execution_count": 8,
      "outputs": [
        {
          "output_type": "execute_result",
          "data": {
            "text/plain": [
              "       Taxa de Ronco  Taxa de Respiração  Temperatura do Corpo  \\\n",
              "count     630.000000          630.000000             630.00000   \n",
              "mean       71.600000           21.800000              92.80000   \n",
              "std        19.372833            3.966111               3.52969   \n",
              "min        45.000000           16.000000              85.00000   \n",
              "25%        52.500000           18.500000              90.50000   \n",
              "50%        70.000000           21.000000              93.00000   \n",
              "75%        91.250000           25.000000              95.50000   \n",
              "max       100.000000           30.000000              99.00000   \n",
              "\n",
              "       Movimento de Membros  O2 no Sangue  Movimento dos Olhos  Horas de Sono  \\\n",
              "count            630.000000    630.000000           630.000000     630.000000   \n",
              "mean              11.700000     90.900000            88.500000       3.700000   \n",
              "std                4.299629      3.902483            11.893747       3.054572   \n",
              "min                4.000000     82.000000            60.000000       0.000000   \n",
              "25%                8.500000     88.500000            81.250000       0.500000   \n",
              "50%               11.000000     91.000000            90.000000       3.500000   \n",
              "75%               15.750000     94.250000            98.750000       6.500000   \n",
              "max               19.000000     97.000000           105.000000       9.000000   \n",
              "\n",
              "       Frequência Cardíaca  Nível de Estresse  \n",
              "count           630.000000         630.000000  \n",
              "mean             64.500000           2.000000  \n",
              "std               9.915277           1.415337  \n",
              "min              50.000000           0.000000  \n",
              "25%              56.250000           1.000000  \n",
              "50%              62.500000           2.000000  \n",
              "75%              72.500000           3.000000  \n",
              "max              85.000000           4.000000  "
            ],
            "text/html": [
              "\n",
              "  <div id=\"df-abceb54a-fef9-4df9-be25-5f608314bf2e\">\n",
              "    <div class=\"colab-df-container\">\n",
              "      <div>\n",
              "<style scoped>\n",
              "    .dataframe tbody tr th:only-of-type {\n",
              "        vertical-align: middle;\n",
              "    }\n",
              "\n",
              "    .dataframe tbody tr th {\n",
              "        vertical-align: top;\n",
              "    }\n",
              "\n",
              "    .dataframe thead th {\n",
              "        text-align: right;\n",
              "    }\n",
              "</style>\n",
              "<table border=\"1\" class=\"dataframe\">\n",
              "  <thead>\n",
              "    <tr style=\"text-align: right;\">\n",
              "      <th></th>\n",
              "      <th>Taxa de Ronco</th>\n",
              "      <th>Taxa de Respiração</th>\n",
              "      <th>Temperatura do Corpo</th>\n",
              "      <th>Movimento de Membros</th>\n",
              "      <th>O2 no Sangue</th>\n",
              "      <th>Movimento dos Olhos</th>\n",
              "      <th>Horas de Sono</th>\n",
              "      <th>Frequência Cardíaca</th>\n",
              "      <th>Nível de Estresse</th>\n",
              "    </tr>\n",
              "  </thead>\n",
              "  <tbody>\n",
              "    <tr>\n",
              "      <th>count</th>\n",
              "      <td>630.000000</td>\n",
              "      <td>630.000000</td>\n",
              "      <td>630.00000</td>\n",
              "      <td>630.000000</td>\n",
              "      <td>630.000000</td>\n",
              "      <td>630.000000</td>\n",
              "      <td>630.000000</td>\n",
              "      <td>630.000000</td>\n",
              "      <td>630.000000</td>\n",
              "    </tr>\n",
              "    <tr>\n",
              "      <th>mean</th>\n",
              "      <td>71.600000</td>\n",
              "      <td>21.800000</td>\n",
              "      <td>92.80000</td>\n",
              "      <td>11.700000</td>\n",
              "      <td>90.900000</td>\n",
              "      <td>88.500000</td>\n",
              "      <td>3.700000</td>\n",
              "      <td>64.500000</td>\n",
              "      <td>2.000000</td>\n",
              "    </tr>\n",
              "    <tr>\n",
              "      <th>std</th>\n",
              "      <td>19.372833</td>\n",
              "      <td>3.966111</td>\n",
              "      <td>3.52969</td>\n",
              "      <td>4.299629</td>\n",
              "      <td>3.902483</td>\n",
              "      <td>11.893747</td>\n",
              "      <td>3.054572</td>\n",
              "      <td>9.915277</td>\n",
              "      <td>1.415337</td>\n",
              "    </tr>\n",
              "    <tr>\n",
              "      <th>min</th>\n",
              "      <td>45.000000</td>\n",
              "      <td>16.000000</td>\n",
              "      <td>85.00000</td>\n",
              "      <td>4.000000</td>\n",
              "      <td>82.000000</td>\n",
              "      <td>60.000000</td>\n",
              "      <td>0.000000</td>\n",
              "      <td>50.000000</td>\n",
              "      <td>0.000000</td>\n",
              "    </tr>\n",
              "    <tr>\n",
              "      <th>25%</th>\n",
              "      <td>52.500000</td>\n",
              "      <td>18.500000</td>\n",
              "      <td>90.50000</td>\n",
              "      <td>8.500000</td>\n",
              "      <td>88.500000</td>\n",
              "      <td>81.250000</td>\n",
              "      <td>0.500000</td>\n",
              "      <td>56.250000</td>\n",
              "      <td>1.000000</td>\n",
              "    </tr>\n",
              "    <tr>\n",
              "      <th>50%</th>\n",
              "      <td>70.000000</td>\n",
              "      <td>21.000000</td>\n",
              "      <td>93.00000</td>\n",
              "      <td>11.000000</td>\n",
              "      <td>91.000000</td>\n",
              "      <td>90.000000</td>\n",
              "      <td>3.500000</td>\n",
              "      <td>62.500000</td>\n",
              "      <td>2.000000</td>\n",
              "    </tr>\n",
              "    <tr>\n",
              "      <th>75%</th>\n",
              "      <td>91.250000</td>\n",
              "      <td>25.000000</td>\n",
              "      <td>95.50000</td>\n",
              "      <td>15.750000</td>\n",
              "      <td>94.250000</td>\n",
              "      <td>98.750000</td>\n",
              "      <td>6.500000</td>\n",
              "      <td>72.500000</td>\n",
              "      <td>3.000000</td>\n",
              "    </tr>\n",
              "    <tr>\n",
              "      <th>max</th>\n",
              "      <td>100.000000</td>\n",
              "      <td>30.000000</td>\n",
              "      <td>99.00000</td>\n",
              "      <td>19.000000</td>\n",
              "      <td>97.000000</td>\n",
              "      <td>105.000000</td>\n",
              "      <td>9.000000</td>\n",
              "      <td>85.000000</td>\n",
              "      <td>4.000000</td>\n",
              "    </tr>\n",
              "  </tbody>\n",
              "</table>\n",
              "</div>\n",
              "      <button class=\"colab-df-convert\" onclick=\"convertToInteractive('df-abceb54a-fef9-4df9-be25-5f608314bf2e')\"\n",
              "              title=\"Convert this dataframe to an interactive table.\"\n",
              "              style=\"display:none;\">\n",
              "        \n",
              "  <svg xmlns=\"http://www.w3.org/2000/svg\" height=\"24px\"viewBox=\"0 0 24 24\"\n",
              "       width=\"24px\">\n",
              "    <path d=\"M0 0h24v24H0V0z\" fill=\"none\"/>\n",
              "    <path d=\"M18.56 5.44l.94 2.06.94-2.06 2.06-.94-2.06-.94-.94-2.06-.94 2.06-2.06.94zm-11 1L8.5 8.5l.94-2.06 2.06-.94-2.06-.94L8.5 2.5l-.94 2.06-2.06.94zm10 10l.94 2.06.94-2.06 2.06-.94-2.06-.94-.94-2.06-.94 2.06-2.06.94z\"/><path d=\"M17.41 7.96l-1.37-1.37c-.4-.4-.92-.59-1.43-.59-.52 0-1.04.2-1.43.59L10.3 9.45l-7.72 7.72c-.78.78-.78 2.05 0 2.83L4 21.41c.39.39.9.59 1.41.59.51 0 1.02-.2 1.41-.59l7.78-7.78 2.81-2.81c.8-.78.8-2.07 0-2.86zM5.41 20L4 18.59l7.72-7.72 1.47 1.35L5.41 20z\"/>\n",
              "  </svg>\n",
              "      </button>\n",
              "      \n",
              "  <style>\n",
              "    .colab-df-container {\n",
              "      display:flex;\n",
              "      flex-wrap:wrap;\n",
              "      gap: 12px;\n",
              "    }\n",
              "\n",
              "    .colab-df-convert {\n",
              "      background-color: #E8F0FE;\n",
              "      border: none;\n",
              "      border-radius: 50%;\n",
              "      cursor: pointer;\n",
              "      display: none;\n",
              "      fill: #1967D2;\n",
              "      height: 32px;\n",
              "      padding: 0 0 0 0;\n",
              "      width: 32px;\n",
              "    }\n",
              "\n",
              "    .colab-df-convert:hover {\n",
              "      background-color: #E2EBFA;\n",
              "      box-shadow: 0px 1px 2px rgba(60, 64, 67, 0.3), 0px 1px 3px 1px rgba(60, 64, 67, 0.15);\n",
              "      fill: #174EA6;\n",
              "    }\n",
              "\n",
              "    [theme=dark] .colab-df-convert {\n",
              "      background-color: #3B4455;\n",
              "      fill: #D2E3FC;\n",
              "    }\n",
              "\n",
              "    [theme=dark] .colab-df-convert:hover {\n",
              "      background-color: #434B5C;\n",
              "      box-shadow: 0px 1px 3px 1px rgba(0, 0, 0, 0.15);\n",
              "      filter: drop-shadow(0px 1px 2px rgba(0, 0, 0, 0.3));\n",
              "      fill: #FFFFFF;\n",
              "    }\n",
              "  </style>\n",
              "\n",
              "      <script>\n",
              "        const buttonEl =\n",
              "          document.querySelector('#df-abceb54a-fef9-4df9-be25-5f608314bf2e button.colab-df-convert');\n",
              "        buttonEl.style.display =\n",
              "          google.colab.kernel.accessAllowed ? 'block' : 'none';\n",
              "\n",
              "        async function convertToInteractive(key) {\n",
              "          const element = document.querySelector('#df-abceb54a-fef9-4df9-be25-5f608314bf2e');\n",
              "          const dataTable =\n",
              "            await google.colab.kernel.invokeFunction('convertToInteractive',\n",
              "                                                     [key], {});\n",
              "          if (!dataTable) return;\n",
              "\n",
              "          const docLinkHtml = 'Like what you see? Visit the ' +\n",
              "            '<a target=\"_blank\" href=https://colab.research.google.com/notebooks/data_table.ipynb>data table notebook</a>'\n",
              "            + ' to learn more about interactive tables.';\n",
              "          element.innerHTML = '';\n",
              "          dataTable['output_type'] = 'display_data';\n",
              "          await google.colab.output.renderOutput(dataTable, element);\n",
              "          const docLink = document.createElement('div');\n",
              "          docLink.innerHTML = docLinkHtml;\n",
              "          element.appendChild(docLink);\n",
              "        }\n",
              "      </script>\n",
              "    </div>\n",
              "  </div>\n",
              "  "
            ]
          },
          "metadata": {},
          "execution_count": 8
        }
      ]
    },
    {
      "cell_type": "markdown",
      "source": [
        "**Algumas Análises**"
      ],
      "metadata": {
        "id": "Coape2g3v3tD"
      }
    },
    {
      "cell_type": "code",
      "source": [
        "sns.set(style='whitegrid')"
      ],
      "metadata": {
        "id": "HqLBvPr-v7ur"
      },
      "execution_count": 9,
      "outputs": []
    },
    {
      "cell_type": "code",
      "source": [
        "plt.scatter(df_stress_ren['Taxa de Respiração'], df_stress_ren['Frequência Cardíaca'])\n",
        "plt.title(\"Interação entre Taxa de Respiração e Frequência Cardíaca\")\n",
        "plt.show()"
      ],
      "metadata": {
        "colab": {
          "base_uri": "https://localhost:8080/",
          "height": 284
        },
        "id": "xZUEeSeVwE4z",
        "outputId": "bda1612d-99c9-4d9d-eda6-55c1664c948b"
      },
      "execution_count": 10,
      "outputs": [
        {
          "output_type": "display_data",
          "data": {
            "text/plain": [
              "<Figure size 432x288 with 1 Axes>"
            ],
            "image/png": "[encoded data removed]"
          },
          "metadata": {}
        }
      ]
    },
    {
      "cell_type": "code",
      "source": [
        "plt.scatter(df_stress_ren['Taxa de Respiração'], df_stress_ren['O2 no Sangue'])\n",
        "plt.title(\"Interação entre Taxa de Respiração e Oxigênio no Sangue\")\n",
        "plt.show()"
      ],
      "metadata": {
        "colab": {
          "base_uri": "https://localhost:8080/",
          "height": 284
        },
        "id": "W9mDuKWGwwpb",
        "outputId": "d65c9cbe-37f5-4057-ac90-d97757dfcb75"
      },
      "execution_count": 11,
      "outputs": [
        {
          "output_type": "display_data",
          "data": {
            "text/plain": [
              "<Figure size 432x288 with 1 Axes>"
            ],
            "image/png": "[encoded data removed]"
          },
          "metadata": {}
        }
      ]
    },
    {
      "cell_type": "code",
      "source": [
        "plt.scatter(df_stress_ren['Taxa de Respiração'], df_stress_ren['Temperatura do Corpo'] )\n",
        "plt.title(\"Interação entre Taxa de Respiração e Temperatura do Corpo\")\n",
        "plt.show()"
      ],
      "metadata": {
        "colab": {
          "base_uri": "https://localhost:8080/",
          "height": 284
        },
        "id": "f1yNAyxoxMOs",
        "outputId": "1116d8e3-19c1-4bb8-805d-2b47d9cc9c94"
      },
      "execution_count": 12,
      "outputs": [
        {
          "output_type": "display_data",
          "data": {
            "text/plain": [
              "<Figure size 432x288 with 1 Axes>"
            ],
            "image/png": "[encoded data removed]"
          },
          "metadata": {}
        }
      ]
    },
    {
      "cell_type": "code",
      "source": [
        "plt.scatter(df_stress_ren['Nível de Estresse'], df_stress_ren['Taxa de Respiração'] )\n",
        "plt.title(\"Interação entre Nível de Estresse e Taxa de Respiração\")\n",
        "plt.show()"
      ],
      "metadata": {
        "colab": {
          "base_uri": "https://localhost:8080/",
          "height": 284
        },
        "id": "PmAaJ14wxbh_",
        "outputId": "e1d8f979-5b8a-406c-8de2-88a5a12289a4"
      },
      "execution_count": 13,
      "outputs": [
        {
          "output_type": "display_data",
          "data": {
            "text/plain": [
              "<Figure size 432x288 with 1 Axes>"
            ],
            "image/png": "[encoded data removed]"
          },
          "metadata": {}
        }
      ]
    },
    {
      "cell_type": "code",
      "source": [
        "plt.scatter(df_stress_ren['Nível de Estresse'], df_stress_ren['Frequência Cardíaca'] )\n",
        "plt.title(\"Interação entre Nível de Estresse e Frequência Cardíaca\")\n",
        "plt.show()"
      ],
      "metadata": {
        "colab": {
          "base_uri": "https://localhost:8080/",
          "height": 284
        },
        "id": "aa_DS7smx1nE",
        "outputId": "0794d883-9c8f-4fdf-d319-857257cb8fa2"
      },
      "execution_count": 14,
      "outputs": [
        {
          "output_type": "display_data",
          "data": {
            "text/plain": [
              "<Figure size 432x288 with 1 Axes>"
            ],
            "image/png": "[encoded data removed]"
          },
          "metadata": {}
        }
      ]
    },
    {
      "cell_type": "code",
      "source": [
        "plt.scatter(df_stress_ren['Nível de Estresse'], df_stress_ren['O2 no Sangue'] )\n",
        "plt.title(\"Interação entre Nível de Estresse e Oxigênio no Sangue\")\n",
        "plt.show()"
      ],
      "metadata": {
        "colab": {
          "base_uri": "https://localhost:8080/",
          "height": 284
        },
        "id": "YsYcZKESyCs7",
        "outputId": "6b123ef2-9620-4ec7-d699-1e9ac8577ce7"
      },
      "execution_count": 15,
      "outputs": [
        {
          "output_type": "display_data",
          "data": {
            "text/plain": [
              "<Figure size 432x288 with 1 Axes>"
            ],
            "image/png": "[encoded data removed]"
          },
          "metadata": {}
        }
      ]
    },
    {
      "cell_type": "code",
      "source": [
        "plt.scatter(df_stress_ren['Nível de Estresse'], df_stress_ren['Temperatura do Corpo'] )\n",
        "plt.title(\"Interação entre Nível de Estresse e Temperatura do Corpo\")\n",
        "plt.show()"
      ],
      "metadata": {
        "colab": {
          "base_uri": "https://localhost:8080/",
          "height": 284
        },
        "id": "GVlrT300yL5E",
        "outputId": "f840a844-002b-4321-db04-79849ec8160e"
      },
      "execution_count": 16,
      "outputs": [
        {
          "output_type": "display_data",
          "data": {
            "text/plain": [
              "<Figure size 432x288 with 1 Axes>"
            ],
            "image/png": "[encoded data removed]"
          },
          "metadata": {}
        }
      ]
    },
    {
      "cell_type": "markdown",
      "source": [
        "**Tabela de Correlação de Pearson**\n",
        "\n",
        "O coeficiente de correlação de Pearson é um teste que mede a relação estatística entre duas variáveis contínuas. A relação entre essas duas variávies deve ser linear para que o coeficiente seja dado de modo adequado. O coeficiente de correlação de Pearson pode ter um intervalo de valores de +1 a -1. Um valor de 0 indica que não há associação entre as duas variáveis. Um valor maior que 0 indica uma associação positiva. Isto é, à medida que o valor de uma variável aumenta, o mesmo acontece com o valor da outra variável. Um valor menor que 0 indica uma associação negativa. Isto é, à medida que o valor de uma variável aumenta, o valor da outra diminui."
      ],
      "metadata": {
        "id": "IZhGySm8WyNS"
      }
    },
    {
      "cell_type": "code",
      "source": [
        "df_stress_ren.corr()"
      ],
      "metadata": {
        "colab": {
          "base_uri": "https://localhost:8080/",
          "height": 332
        },
        "id": "It3rcASHW-yh",
        "outputId": "13a9cca1-f8da-4b25-909f-22536676d714"
      },
      "execution_count": 17,
      "outputs": [
        {
          "output_type": "execute_result",
          "data": {
            "text/plain": [
              "                      Taxa de Ronco  Taxa de Respiração  Temperatura do Corpo  \\\n",
              "Taxa de Ronco              1.000000            0.976268             -0.902475   \n",
              "Taxa de Respiração         0.976268            1.000000             -0.889237   \n",
              "Temperatura do Corpo      -0.902475           -0.889237              1.000000   \n",
              "Movimento de Membros       0.981078            0.991738             -0.896412   \n",
              "O2 no Sangue              -0.903140           -0.889210              0.998108   \n",
              "Movimento dos Olhos        0.950600            0.935572             -0.857299   \n",
              "Horas de Sono             -0.920554           -0.891855              0.954860   \n",
              "Frequência Cardíaca        0.976268            1.000000             -0.889237   \n",
              "Nível de Estresse          0.975322            0.963516             -0.962354   \n",
              "\n",
              "                      Movimento de Membros  O2 no Sangue  Movimento dos Olhos  \\\n",
              "Taxa de Ronco                     0.981078     -0.903140             0.950600   \n",
              "Taxa de Respiração                0.991738     -0.889210             0.935572   \n",
              "Temperatura do Corpo             -0.896412      0.998108            -0.857299   \n",
              "Movimento de Membros              1.000000     -0.898527             0.964703   \n",
              "O2 no Sangue                     -0.898527      1.000000            -0.862136   \n",
              "Movimento dos Olhos               0.964703     -0.862136             1.000000   \n",
              "Horas de Sono                    -0.901102      0.950189            -0.893952   \n",
              "Frequência Cardíaca               0.991738     -0.889210             0.935572   \n",
              "Nível de Estresse                 0.971071     -0.961092             0.951988   \n",
              "\n",
              "                      Horas de Sono  Frequência Cardíaca  Nível de Estresse  \n",
              "Taxa de Ronco             -0.920554             0.976268           0.975322  \n",
              "Taxa de Respiração        -0.891855             1.000000           0.963516  \n",
              "Temperatura do Corpo       0.954860            -0.889237          -0.962354  \n",
              "Movimento de Membros      -0.901102             0.991738           0.971071  \n",
              "O2 no Sangue               0.950189            -0.889210          -0.961092  \n",
              "Movimento dos Olhos       -0.893952             0.935572           0.951988  \n",
              "Horas de Sono              1.000000            -0.891855          -0.973036  \n",
              "Frequência Cardíaca       -0.891855             1.000000           0.963516  \n",
              "Nível de Estresse         -0.973036             0.963516           1.000000  "
            ],
            "text/html": [
              "\n",
              "  <div id=\"df-f5a0ce51-17d5-4c3b-bc40-cbe0fb0079b7\">\n",
              "    <div class=\"colab-df-container\">\n",
              "      <div>\n",
              "<style scoped>\n",
              "    .dataframe tbody tr th:only-of-type {\n",
              "        vertical-align: middle;\n",
              "    }\n",
              "\n",
              "    .dataframe tbody tr th {\n",
              "        vertical-align: top;\n",
              "    }\n",
              "\n",
              "    .dataframe thead th {\n",
              "        text-align: right;\n",
              "    }\n",
              "</style>\n",
              "<table border=\"1\" class=\"dataframe\">\n",
              "  <thead>\n",
              "    <tr style=\"text-align: right;\">\n",
              "      <th></th>\n",
              "      <th>Taxa de Ronco</th>\n",
              "      <th>Taxa de Respiração</th>\n",
              "      <th>Temperatura do Corpo</th>\n",
              "      <th>Movimento de Membros</th>\n",
              "      <th>O2 no Sangue</th>\n",
              "      <th>Movimento dos Olhos</th>\n",
              "      <th>Horas de Sono</th>\n",
              "      <th>Frequência Cardíaca</th>\n",
              "      <th>Nível de Estresse</th>\n",
              "    </tr>\n",
              "  </thead>\n",
              "  <tbody>\n",
              "    <tr>\n",
              "      <th>Taxa de Ronco</th>\n",
              "      <td>1.000000</td>\n",
              "      <td>0.976268</td>\n",
              "      <td>-0.902475</td>\n",
              "      <td>0.981078</td>\n",
              "      <td>-0.903140</td>\n",
              "      <td>0.950600</td>\n",
              "      <td>-0.920554</td>\n",
              "      <td>0.976268</td>\n",
              "      <td>0.975322</td>\n",
              "    </tr>\n",
              "    <tr>\n",
              "      <th>Taxa de Respiração</th>\n",
              "      <td>0.976268</td>\n",
              "      <td>1.000000</td>\n",
              "      <td>-0.889237</td>\n",
              "      <td>0.991738</td>\n",
              "      <td>-0.889210</td>\n",
              "      <td>0.935572</td>\n",
              "      <td>-0.891855</td>\n",
              "      <td>1.000000</td>\n",
              "      <td>0.963516</td>\n",
              "    </tr>\n",
              "    <tr>\n",
              "      <th>Temperatura do Corpo</th>\n",
              "      <td>-0.902475</td>\n",
              "      <td>-0.889237</td>\n",
              "      <td>1.000000</td>\n",
              "      <td>-0.896412</td>\n",
              "      <td>0.998108</td>\n",
              "      <td>-0.857299</td>\n",
              "      <td>0.954860</td>\n",
              "      <td>-0.889237</td>\n",
              "      <td>-0.962354</td>\n",
              "    </tr>\n",
              "    <tr>\n",
              "      <th>Movimento de Membros</th>\n",
              "      <td>0.981078</td>\n",
              "      <td>0.991738</td>\n",
              "      <td>-0.896412</td>\n",
              "      <td>1.000000</td>\n",
              "      <td>-0.898527</td>\n",
              "      <td>0.964703</td>\n",
              "      <td>-0.901102</td>\n",
              "      <td>0.991738</td>\n",
              "      <td>0.971071</td>\n",
              "    </tr>\n",
              "    <tr>\n",
              "      <th>O2 no Sangue</th>\n",
              "      <td>-0.903140</td>\n",
              "      <td>-0.889210</td>\n",
              "      <td>0.998108</td>\n",
              "      <td>-0.898527</td>\n",
              "      <td>1.000000</td>\n",
              "      <td>-0.862136</td>\n",
              "      <td>0.950189</td>\n",
              "      <td>-0.889210</td>\n",
              "      <td>-0.961092</td>\n",
              "    </tr>\n",
              "    <tr>\n",
              "      <th>Movimento dos Olhos</th>\n",
              "      <td>0.950600</td>\n",
              "      <td>0.935572</td>\n",
              "      <td>-0.857299</td>\n",
              "      <td>0.964703</td>\n",
              "      <td>-0.862136</td>\n",
              "      <td>1.000000</td>\n",
              "      <td>-0.893952</td>\n",
              "      <td>0.935572</td>\n",
              "      <td>0.951988</td>\n",
              "    </tr>\n",
              "    <tr>\n",
              "      <th>Horas de Sono</th>\n",
              "      <td>-0.920554</td>\n",
              "      <td>-0.891855</td>\n",
              "      <td>0.954860</td>\n",
              "      <td>-0.901102</td>\n",
              "      <td>0.950189</td>\n",
              "      <td>-0.893952</td>\n",
              "      <td>1.000000</td>\n",
              "      <td>-0.891855</td>\n",
              "      <td>-0.973036</td>\n",
              "    </tr>\n",
              "    <tr>\n",
              "      <th>Frequência Cardíaca</th>\n",
              "      <td>0.976268</td>\n",
              "      <td>1.000000</td>\n",
              "      <td>-0.889237</td>\n",
              "      <td>0.991738</td>\n",
              "      <td>-0.889210</td>\n",
              "      <td>0.935572</td>\n",
              "      <td>-0.891855</td>\n",
              "      <td>1.000000</td>\n",
              "      <td>0.963516</td>\n",
              "    </tr>\n",
              "    <tr>\n",
              "      <th>Nível de Estresse</th>\n",
              "      <td>0.975322</td>\n",
              "      <td>0.963516</td>\n",
              "      <td>-0.962354</td>\n",
              "      <td>0.971071</td>\n",
              "      <td>-0.961092</td>\n",
              "      <td>0.951988</td>\n",
              "      <td>-0.973036</td>\n",
              "      <td>0.963516</td>\n",
              "      <td>1.000000</td>\n",
              "    </tr>\n",
              "  </tbody>\n",
              "</table>\n",
              "</div>\n",
              "      <button class=\"colab-df-convert\" onclick=\"convertToInteractive('df-f5a0ce51-17d5-4c3b-bc40-cbe0fb0079b7')\"\n",
              "              title=\"Convert this dataframe to an interactive table.\"\n",
              "              style=\"display:none;\">\n",
              "        \n",
              "  <svg xmlns=\"http://www.w3.org/2000/svg\" height=\"24px\"viewBox=\"0 0 24 24\"\n",
              "       width=\"24px\">\n",
              "    <path d=\"M0 0h24v24H0V0z\" fill=\"none\"/>\n",
              "    <path d=\"M18.56 5.44l.94 2.06.94-2.06 2.06-.94-2.06-.94-.94-2.06-.94 2.06-2.06.94zm-11 1L8.5 8.5l.94-2.06 2.06-.94-2.06-.94L8.5 2.5l-.94 2.06-2.06.94zm10 10l.94 2.06.94-2.06 2.06-.94-2.06-.94-.94-2.06-.94 2.06-2.06.94z\"/><path d=\"M17.41 7.96l-1.37-1.37c-.4-.4-.92-.59-1.43-.59-.52 0-1.04.2-1.43.59L10.3 9.45l-7.72 7.72c-.78.78-.78 2.05 0 2.83L4 21.41c.39.39.9.59 1.41.59.51 0 1.02-.2 1.41-.59l7.78-7.78 2.81-2.81c.8-.78.8-2.07 0-2.86zM5.41 20L4 18.59l7.72-7.72 1.47 1.35L5.41 20z\"/>\n",
              "  </svg>\n",
              "      </button>\n",
              "      \n",
              "  <style>\n",
              "    .colab-df-container {\n",
              "      display:flex;\n",
              "      flex-wrap:wrap;\n",
              "      gap: 12px;\n",
              "    }\n",
              "\n",
              "    .colab-df-convert {\n",
              "      background-color: #E8F0FE;\n",
              "      border: none;\n",
              "      border-radius: 50%;\n",
              "      cursor: pointer;\n",
              "      display: none;\n",
              "      fill: #1967D2;\n",
              "      height: 32px;\n",
              "      padding: 0 0 0 0;\n",
              "      width: 32px;\n",
              "    }\n",
              "\n",
              "    .colab-df-convert:hover {\n",
              "      background-color: #E2EBFA;\n",
              "      box-shadow: 0px 1px 2px rgba(60, 64, 67, 0.3), 0px 1px 3px 1px rgba(60, 64, 67, 0.15);\n",
              "      fill: #174EA6;\n",
              "    }\n",
              "\n",
              "    [theme=dark] .colab-df-convert {\n",
              "      background-color: #3B4455;\n",
              "      fill: #D2E3FC;\n",
              "    }\n",
              "\n",
              "    [theme=dark] .colab-df-convert:hover {\n",
              "      background-color: #434B5C;\n",
              "      box-shadow: 0px 1px 3px 1px rgba(0, 0, 0, 0.15);\n",
              "      filter: drop-shadow(0px 1px 2px rgba(0, 0, 0, 0.3));\n",
              "      fill: #FFFFFF;\n",
              "    }\n",
              "  </style>\n",
              "\n",
              "      <script>\n",
              "        const buttonEl =\n",
              "          document.querySelector('#df-f5a0ce51-17d5-4c3b-bc40-cbe0fb0079b7 button.colab-df-convert');\n",
              "        buttonEl.style.display =\n",
              "          google.colab.kernel.accessAllowed ? 'block' : 'none';\n",
              "\n",
              "        async function convertToInteractive(key) {\n",
              "          const element = document.querySelector('#df-f5a0ce51-17d5-4c3b-bc40-cbe0fb0079b7');\n",
              "          const dataTable =\n",
              "            await google.colab.kernel.invokeFunction('convertToInteractive',\n",
              "                                                     [key], {});\n",
              "          if (!dataTable) return;\n",
              "\n",
              "          const docLinkHtml = 'Like what you see? Visit the ' +\n",
              "            '<a target=\"_blank\" href=https://colab.research.google.com/notebooks/data_table.ipynb>data table notebook</a>'\n",
              "            + ' to learn more about interactive tables.';\n",
              "          element.innerHTML = '';\n",
              "          dataTable['output_type'] = 'display_data';\n",
              "          await google.colab.output.renderOutput(dataTable, element);\n",
              "          const docLink = document.createElement('div');\n",
              "          docLink.innerHTML = docLinkHtml;\n",
              "          element.appendChild(docLink);\n",
              "        }\n",
              "      </script>\n",
              "    </div>\n",
              "  </div>\n",
              "  "
            ]
          },
          "metadata": {},
          "execution_count": 17
        }
      ]
    },
    {
      "cell_type": "code",
      "source": [
        "features = ['Taxa de Respiração', 'O2 no Sangue']\n",
        "df_stress_ren[features].hist(figsize=(10, 4))"
      ],
      "metadata": {
        "colab": {
          "base_uri": "https://localhost:8080/",
          "height": 336
        },
        "id": "WxvtDzXgZ_Eb",
        "outputId": "1375144c-03c6-42e4-bdca-0f9f9f2edf87"
      },
      "execution_count": 19,
      "outputs": [
        {
          "output_type": "execute_result",
          "data": {
            "text/plain": [
              "array([[<matplotlib.axes._subplots.AxesSubplot object at 0x7fb1d6e14590>,\n",
              "        <matplotlib.axes._subplots.AxesSubplot object at 0x7fb1d6e31410>]],\n",
              "      dtype=object)"
            ]
          },
          "metadata": {},
          "execution_count": 19
        },
        {
          "output_type": "display_data",
          "data": {
            "text/plain": [
              "<Figure size 720x288 with 2 Axes>"
            ],
            "image/png": "[encoded data removed]"
          },
          "metadata": {}
        }
      ]
    },
    {
      "cell_type": "code",
      "source": [
        "features = ['Temperatura do Corpo', 'Frequência Cardíaca']\n",
        "df_stress_ren[features].hist(figsize=(10, 4))"
      ],
      "metadata": {
        "colab": {
          "base_uri": "https://localhost:8080/",
          "height": 336
        },
        "id": "7fBav3xfaht8",
        "outputId": "ce24a029-98a8-4b24-a53f-c1ad03b33ebf"
      },
      "execution_count": 20,
      "outputs": [
        {
          "output_type": "execute_result",
          "data": {
            "text/plain": [
              "array([[<matplotlib.axes._subplots.AxesSubplot object at 0x7fb1d6d093d0>,\n",
              "        <matplotlib.axes._subplots.AxesSubplot object at 0x7fb1db03a050>]],\n",
              "      dtype=object)"
            ]
          },
          "metadata": {},
          "execution_count": 20
        },
        {
          "output_type": "display_data",
          "data": {
            "text/plain": [
              "<Figure size 720x288 with 2 Axes>"
            ],
            "image/png": "[encoded data removed]"
          },
          "metadata": {}
        }
      ]
    },
    {
      "cell_type": "code",
      "source": [
        "features = ['Taxa de Ronco', 'Horas de Sono']\n",
        "df_stress_ren[features].hist(figsize=(10, 4))"
      ],
      "metadata": {
        "colab": {
          "base_uri": "https://localhost:8080/",
          "height": 336
        },
        "id": "ICDshKHparh1",
        "outputId": "34843839-dd03-4adf-aaa2-f6e98dbab0fa"
      },
      "execution_count": 21,
      "outputs": [
        {
          "output_type": "execute_result",
          "data": {
            "text/plain": [
              "array([[<matplotlib.axes._subplots.AxesSubplot object at 0x7fb1db14bf90>,\n",
              "        <matplotlib.axes._subplots.AxesSubplot object at 0x7fb1e36110d0>]],\n",
              "      dtype=object)"
            ]
          },
          "metadata": {},
          "execution_count": 21
        },
        {
          "output_type": "display_data",
          "data": {
            "text/plain": [
              "<Figure size 720x288 with 2 Axes>"
            ],
            "image/png": "[encoded data removed]"
          },
          "metadata": {}
        }
      ]
    },
    {
      "cell_type": "code",
      "source": [
        "features = ['Movimento de Membros', 'Movimento dos Olhos']\n",
        "df_stress_ren[features].hist(figsize=(10, 4))"
      ],
      "metadata": {
        "colab": {
          "base_uri": "https://localhost:8080/",
          "height": 336
        },
        "id": "fvMF6Nlzazcs",
        "outputId": "62b6282f-dcaf-4212-b83f-bee0f9898543"
      },
      "execution_count": 22,
      "outputs": [
        {
          "output_type": "execute_result",
          "data": {
            "text/plain": [
              "array([[<matplotlib.axes._subplots.AxesSubplot object at 0x7fb1db30f310>,\n",
              "        <matplotlib.axes._subplots.AxesSubplot object at 0x7fb1db336f50>]],\n",
              "      dtype=object)"
            ]
          },
          "metadata": {},
          "execution_count": 22
        },
        {
          "output_type": "display_data",
          "data": {
            "text/plain": [
              "<Figure size 720x288 with 2 Axes>"
            ],
            "image/png": "[encoded data removed]"
          },
          "metadata": {}
        }
      ]
    },
    {
      "cell_type": "code",
      "source": [
        "plt.figure(figsize=(6,5))\n",
        "df_stress_ren.boxplot(column='Taxa de Respiração')\n",
        "plt.ylim(15,32)\n",
        "plt.show()"
      ],
      "metadata": {
        "colab": {
          "base_uri": "https://localhost:8080/",
          "height": 326
        },
        "id": "kBgnWxFUbLo0",
        "outputId": "d97599d1-9589-4806-9be0-994664273e66"
      },
      "execution_count": 27,
      "outputs": [
        {
          "output_type": "display_data",
          "data": {
            "text/plain": [
              "<Figure size 432x360 with 1 Axes>"
            ],
            "image/png": "[encoded data removed]"
          },
          "metadata": {}
        }
      ]
    },
    {
      "cell_type": "code",
      "source": [
        "plt.figure(figsize=(6,5))\n",
        "df_stress_ren.boxplot(column='O2 no Sangue')\n",
        "plt.ylim(80,98)\n",
        "plt.show()"
      ],
      "metadata": {
        "colab": {
          "base_uri": "https://localhost:8080/",
          "height": 326
        },
        "id": "OlOyg6bqckH0",
        "outputId": "b04e16e9-e5f5-43ae-a288-ab6c7fe9a826"
      },
      "execution_count": 30,
      "outputs": [
        {
          "output_type": "display_data",
          "data": {
            "text/plain": [
              "<Figure size 432x360 with 1 Axes>"
            ],
            "image/png": "[encoded data removed]"
          },
          "metadata": {}
        }
      ]
    },
    {
      "cell_type": "code",
      "source": [
        "plt.figure(figsize=(6,5))\n",
        "df_stress_ren.boxplot(column='Temperatura do Corpo')\n",
        "plt.ylim(84,100)\n",
        "plt.show()"
      ],
      "metadata": {
        "colab": {
          "base_uri": "https://localhost:8080/",
          "height": 326
        },
        "id": "Lw8s8ZQMcz78",
        "outputId": "8ad37f43-9d3f-4832-8af7-0b8a3c64ee86"
      },
      "execution_count": 32,
      "outputs": [
        {
          "output_type": "display_data",
          "data": {
            "text/plain": [
              "<Figure size 432x360 with 1 Axes>"
            ],
            "image/png": "[encoded data removed]"
          },
          "metadata": {}
        }
      ]
    },
    {
      "cell_type": "code",
      "source": [
        "plt.figure(figsize=(6,5))\n",
        "df_stress_ren.boxplot(column='Frequência Cardíaca')\n",
        "plt.ylim(45,90)\n",
        "plt.show()"
      ],
      "metadata": {
        "colab": {
          "base_uri": "https://localhost:8080/",
          "height": 324
        },
        "id": "060XF9sCdYBV",
        "outputId": "1a05dc9a-e289-41b1-873f-d679b1db1269"
      },
      "execution_count": null,
      "outputs": [
        {
          "output_type": "display_data",
          "data": {
            "text/plain": [
              "<Figure size 432x360 with 1 Axes>"
            ],
            "image/png": "[encoded data removed]"
          },
          "metadata": {
            "needs_background": "light"
          }
        }
      ]
    },
    {
      "cell_type": "code",
      "source": [
        "plt.figure(figsize=(6,5))\n",
        "df_stress_ren.boxplot(column='Taxa de Ronco')\n",
        "plt.ylim(40,105)\n",
        "plt.show()"
      ],
      "metadata": {
        "colab": {
          "base_uri": "https://localhost:8080/",
          "height": 320
        },
        "id": "M5x5c4FTdzw9",
        "outputId": "590fbb0f-f63d-4b63-a05a-92a5622fc646"
      },
      "execution_count": null,
      "outputs": [
        {
          "output_type": "display_data",
          "data": {
            "text/plain": [
              "<Figure size 432x360 with 1 Axes>"
            ],
            "image/png": "[encoded data removed]"
          },
          "metadata": {
            "needs_background": "light"
          }
        }
      ]
    },
    {
      "cell_type": "code",
      "source": [
        "plt.figure(figsize=(6,5))\n",
        "df_stress_ren.boxplot(column='Movimento dos Olhos')\n",
        "plt.ylim(55,110)\n",
        "plt.show()"
      ],
      "metadata": {
        "colab": {
          "base_uri": "https://localhost:8080/",
          "height": 324
        },
        "id": "LyvufVZUd8Ih",
        "outputId": "aad876d0-9ff4-4aaf-83e2-ca2032d52a10"
      },
      "execution_count": null,
      "outputs": [
        {
          "output_type": "display_data",
          "data": {
            "text/plain": [
              "<Figure size 432x360 with 1 Axes>"
            ],
            "image/png": "[encoded data removed]"
          },
          "metadata": {
            "needs_background": "light"
          }
        }
      ]
    },
    {
      "cell_type": "code",
      "source": [
        "plt.figure(figsize=(6,5))\n",
        "df_stress_ren.boxplot(column='Movimento de Membros')\n",
        "plt.ylim(2,20)\n",
        "plt.show()"
      ],
      "metadata": {
        "colab": {
          "base_uri": "https://localhost:8080/",
          "height": 326
        },
        "id": "YcrDiyyleEkX",
        "outputId": "2b55a300-4e90-450b-bc60-22e6a5e5df9d"
      },
      "execution_count": 34,
      "outputs": [
        {
          "output_type": "display_data",
          "data": {
            "text/plain": [
              "<Figure size 432x360 with 1 Axes>"
            ],
            "image/png": "[encoded data removed]"
          },
          "metadata": {}
        }
      ]
    },
    {
      "cell_type": "code",
      "source": [
        "plt.figure(figsize=(6,5))\n",
        "df_stress_ren.boxplot(column='Horas de Sono')\n",
        "plt.ylim(0,10)\n",
        "plt.show()"
      ],
      "metadata": {
        "colab": {
          "base_uri": "https://localhost:8080/",
          "height": 324
        },
        "id": "mn9kqcO1di88",
        "outputId": "4fe2a22f-6c28-4542-acd0-64a558993931"
      },
      "execution_count": null,
      "outputs": [
        {
          "output_type": "display_data",
          "data": {
            "text/plain": [
              "<Figure size 432x360 with 1 Axes>"
            ],
            "image/png": "[encoded data removed]"
          },
          "metadata": {
            "needs_background": "light"
          }
        }
      ]
    },
    {
      "cell_type": "code",
      "source": [
        "plt.figure(figsize=(6,5))\n",
        "df_stress_ren.boxplot(column='Nível de Estresse')\n",
        "plt.ylim(0,4.5)\n",
        "plt.show()"
      ],
      "metadata": {
        "id": "O-66sNkQeZv2",
        "outputId": "841075d5-fd7f-4458-cd95-aa64a1c07bb3",
        "colab": {
          "base_uri": "https://localhost:8080/",
          "height": 326
        }
      },
      "execution_count": 36,
      "outputs": [
        {
          "output_type": "display_data",
          "data": {
            "text/plain": [
              "<Figure size 432x360 with 1 Axes>"
            ],
            "image/png": "[encoded data removed]"
          },
          "metadata": {}
        }
      ]
    },
    {
      "cell_type": "markdown",
      "source": [
        ""
      ],
      "metadata": {
        "id": "zmA4aQiRy1FE"
      }
    },
    {
      "cell_type": "markdown",
      "source": [
        "**MODELO USADO - REGRESSÃO LINEAR MÚLTIPLA**\n",
        "\n",
        "A Regressão Linear Múltipla é um modelo de análise que usamos quando modelamos a relação linear entre uma variável de desfecho contínua e múltiplas variáveis preditoras que podem ser contínuas ou categóricas.\n",
        "\n",
        "A principal diferença entre a Regressão Linear Múltipla e a Simples, é que na simples só usamos uma variável preditora. Você pode aprender mais sobre a regressão linear simples"
      ],
      "metadata": {
        "id": "l34g9Ak3vyZz"
      }
    },
    {
      "cell_type": "markdown",
      "source": [
        "**Separando Variáveis**"
      ],
      "metadata": {
        "id": "XgFaL_YHtHHW"
      }
    },
    {
      "cell_type": "code",
      "source": [
        "# A regressão feita será visando a predição do nível de estresse\n",
        "X = df_stress_ren.drop('Nível de Estresse', axis=1)\n",
        "y = df_stress_ren['Nível de Estresse'].values"
      ],
      "metadata": {
        "id": "sG-rmLDktRXM"
      },
      "execution_count": 37,
      "outputs": []
    },
    {
      "cell_type": "markdown",
      "source": [
        "**Divisão dos Grupos**"
      ],
      "metadata": {
        "id": "alBBDEUHuoRY"
      }
    },
    {
      "cell_type": "code",
      "source": [
        "np.random.seed(100) #gerador de sementes aleatórias\n",
        "X_train, X_test, y_train, y_test = train_test_split(X, y, test_size = 0.3, random_state=53) "
      ],
      "metadata": {
        "id": "876eO19Hu2cv"
      },
      "execution_count": 38,
      "outputs": []
    },
    {
      "cell_type": "markdown",
      "source": [
        "**Iniciando o Modelo de Regressão**"
      ],
      "metadata": {
        "id": "Y2ysQT0bvvlm"
      }
    },
    {
      "cell_type": "code",
      "source": [
        "reg_all = LinearRegression() # objeto criado\n",
        "\n",
        "reg_all.fit(X_train, y_train) # ajustando os dados usados\n",
        "\n",
        "y_pred = reg_all.predict(X_test) # predição do modelo usando os ajustes feitos\n",
        "\n",
        "RMSE = np.sqrt(mean_squared_error(y_test, y_pred)) # erro associado ao modelo escolhido\n",
        "\n",
        "# Para verificarmos o quanto esse modelo é válido para o banco de dados escolhidos, fazemos:\n",
        "print(\"Temos que o R^2 é: {} \\nO RMSE para o modelo é: {}\".format(reg_all.score(X_test, y_test), RMSE)) \n"
      ],
      "metadata": {
        "colab": {
          "base_uri": "https://localhost:8080/"
        },
        "id": "8STOnfrpvyx3",
        "outputId": "e9558d34-36e9-49fd-9514-479a0575c015"
      },
      "execution_count": 39,
      "outputs": [
        {
          "output_type": "stream",
          "name": "stdout",
          "text": [
            "Temos que o R^2 é: 0.9998606954028346 \n",
            "O RMSE para o modelo é: 0.016250494025650385\n"
          ]
        }
      ]
    },
    {
      "cell_type": "markdown",
      "source": [
        "**Validação Cruzada**"
      ],
      "metadata": {
        "id": "2lde9entUo-R"
      }
    },
    {
      "cell_type": "code",
      "source": [
        "reg = LinearRegression() # objeto criado para a regressão linear\n",
        "\n",
        "# Calculando os scores para k-fold para diferentes valores de cross validation: \n",
        "\n",
        "cv_scores1 = cross_val_score(reg, X, y, cv=3)\n",
        "\n",
        "cv_scores2 = cross_val_score(reg, X, y, cv=5)\n",
        "\n",
        "cv_scores3 = cross_val_score(reg, X, y, cv=7)\n",
        "\n",
        "cv_scores4 = cross_val_score(reg, X, y, cv=11)\n",
        "\n",
        "cv_scores5 = cross_val_score(reg, X, y, cv=13)\n",
        "\n",
        "# Valores encontrados:\n",
        "print(\" Para cv = 3, temos: {} \\n Para cv = 5: {} \\n Para cv = 7: {} \\n Para cv = 11: {} \\n Para cv = 13: {}\".format(np.mean(cv_scores1),\n",
        "                                                                                                                    np.mean(cv_scores2),\n",
        "                                                                                                                    np.mean(cv_scores3),\n",
        "                                                                                                                    np.mean(cv_scores4),\n",
        "                                                                                                                    np.mean(cv_scores5)))"
      ],
      "metadata": {
        "colab": {
          "base_uri": "https://localhost:8080/"
        },
        "id": "GvTdn2Y60iEf",
        "outputId": "8baf8a22-94e7-43d8-d632-6161c84a790b"
      },
      "execution_count": 40,
      "outputs": [
        {
          "output_type": "stream",
          "name": "stdout",
          "text": [
            " Para cv = 3, temos: 0.9998860386790663 \n",
            " Para cv = 5: 0.9998877345837487 \n",
            " Para cv = 7: 0.9998879035112441 \n",
            " Para cv = 11: 0.9998860344399388 \n",
            " Para cv = 13: 0.9998868427203542\n"
          ]
        }
      ]
    },
    {
      "cell_type": "code",
      "source": [
        ""
      ],
      "metadata": {
        "id": "gmlhoQ4cUvVl"
      },
      "execution_count": null,
      "outputs": []
    }
  ]
}